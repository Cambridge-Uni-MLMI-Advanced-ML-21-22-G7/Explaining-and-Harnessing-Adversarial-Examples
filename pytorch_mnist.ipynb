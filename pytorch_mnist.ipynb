{
 "cells": [
  {
   "cell_type": "code",
   "execution_count": 1,
   "metadata": {},
   "outputs": [],
   "source": [
    "import numpy as np\n",
    "import matplotlib.pyplot as plt\n",
    "import torch\n",
    "import torch.nn as nn\n",
    "import torch.nn.functional as F\n",
    "from torch import optim\n",
    "from torch.utils.data import DataLoader\n",
    "from torch.autograd import Variable\n",
    "from torchvision import datasets\n",
    "from torchvision.transforms import ToTensor"
   ]
  },
  {
   "cell_type": "markdown",
   "metadata": {},
   "source": [
    "## Source\n",
    "\n",
    "Followed [PyTorch tutorial](https://pytorch.org/tutorials/beginner/blitz/cifar10_tutorial.html) and [this medium article](https://medium.com/@nutanbhogendrasharma/pytorch-convolutional-neural-network-with-mnist-dataset-4e8a4265e118) for initial setup of CNN network trained and tested using MNIST."
   ]
  },
  {
   "cell_type": "markdown",
   "metadata": {},
   "source": [
    "## Settings"
   ]
  },
  {
   "cell_type": "code",
   "execution_count": 2,
   "metadata": {},
   "outputs": [],
   "source": [
    "USE_SOFTMAX = False"
   ]
  },
  {
   "cell_type": "markdown",
   "metadata": {},
   "source": [
    "## Download the MNIST Dataset"
   ]
  },
  {
   "cell_type": "code",
   "execution_count": 3,
   "metadata": {},
   "outputs": [],
   "source": [
    "train_data = datasets.MNIST(\n",
    "    root = 'data',\n",
    "    train = True,                         \n",
    "    transform = ToTensor(), \n",
    "    download = True,            \n",
    ")\n",
    "test_data = datasets.MNIST(\n",
    "    root = 'data', \n",
    "    train = False, \n",
    "    transform = ToTensor()\n",
    ")"
   ]
  },
  {
   "cell_type": "markdown",
   "metadata": {},
   "source": [
    "## Plot Examples"
   ]
  },
  {
   "cell_type": "code",
   "execution_count": 4,
   "metadata": {},
   "outputs": [
    {
     "data": {
      "image/png": "[encoded data removed]",
      "text/plain": [
       "<Figure size 720x576 with 25 Axes>"
      ]
     },
     "metadata": {
      "needs_background": "light"
     },
     "output_type": "display_data"
    }
   ],
   "source": [
    "cols, rows = 5, 5\n",
    "fig, ax = plt.subplots(cols, rows, figsize=(10, 8))\n",
    "\n",
    "for i in range(cols * rows):\n",
    "    col, row = i // 5, i % 5\n",
    "    sample_idx = torch.randint(len(train_data), size=(1,)).item()\n",
    "    img, label = train_data[sample_idx]\n",
    "    ax[col, row].set_title(label)\n",
    "    ax[col, row].axis(\"off\")\n",
    "    ax[col, row].imshow(img.squeeze(), cmap=\"gray\")\n",
    "fig.tight_layout()"
   ]
  },
  {
   "cell_type": "markdown",
   "metadata": {},
   "source": [
    "## DataLoaders"
   ]
  },
  {
   "cell_type": "code",
   "execution_count": 5,
   "metadata": {},
   "outputs": [
    {
     "data": {
      "text/plain": [
       "(<torch.utils.data.dataloader.DataLoader at 0x126e60d30>,\n",
       " <torch.utils.data.dataloader.DataLoader at 0x126e600d0>)"
      ]
     },
     "execution_count": 5,
     "metadata": {},
     "output_type": "execute_result"
    }
   ],
   "source": [
    "train_loader = torch.utils.data.DataLoader(\n",
    "    train_data, \n",
    "    batch_size=100, \n",
    "    shuffle=True, \n",
    "    num_workers=1\n",
    ")\n",
    "    \n",
    "test_loader = torch.utils.data.DataLoader(\n",
    "    test_data, \n",
    "    batch_size=100, \n",
    "    shuffle=True, \n",
    "    num_workers=1\n",
    ")\n",
    "\n",
    "train_loader, test_loader"
   ]
  },
  {
   "cell_type": "markdown",
   "metadata": {},
   "source": [
    "## Network Definition"
   ]
  },
  {
   "cell_type": "code",
   "execution_count": 6,
   "metadata": {},
   "outputs": [],
   "source": [
    "class CNN(nn.Module):\n",
    "    def __init__(self):\n",
    "        super().__init__()\n",
    "        self.conv1 = nn.Conv2d(\n",
    "            in_channels=1,\n",
    "            out_channels=16,\n",
    "            kernel_size=5,\n",
    "            stride=1,\n",
    "            padding=0,\n",
    "        )\n",
    "        self.pool = nn.MaxPool2d(\n",
    "            kernel_size=2\n",
    "        )\n",
    "        self.conv2 = nn.Conv2d(\n",
    "            in_channels=1,\n",
    "            out_channels=16,\n",
    "            kernel_size=5,\n",
    "            # stride=1,\n",
    "            # padding=2,\n",
    "        )\n",
    "        self.fc = nn.Linear(\n",
    "            in_features=16*12*12,\n",
    "            out_features=10\n",
    "        )\n",
    "\n",
    "\n",
    "    def forward(self, x):\n",
    "        x = self.conv1(x)\n",
    "        x = F.relu(x)\n",
    "        x = self.pool(x)\n",
    "        x = torch.flatten(x, 1)\n",
    "        x = self.fc(x)\n",
    "\n",
    "        if USE_SOFTMAX:\n",
    "            x = F.softmax(x, dim=1)\n",
    "\n",
    "        return x    # return x for visualization"
   ]
  },
  {
   "cell_type": "code",
   "execution_count": 7,
   "metadata": {},
   "outputs": [
    {
     "data": {
      "text/plain": [
       "CNN(\n",
       "  (conv1): Conv2d(1, 16, kernel_size=(5, 5), stride=(1, 1))\n",
       "  (pool): MaxPool2d(kernel_size=2, stride=2, padding=0, dilation=1, ceil_mode=False)\n",
       "  (conv2): Conv2d(1, 16, kernel_size=(5, 5), stride=(1, 1))\n",
       "  (fc): Linear(in_features=2304, out_features=10, bias=True)\n",
       ")"
      ]
     },
     "execution_count": 7,
     "metadata": {},
     "output_type": "execute_result"
    }
   ],
   "source": [
    "cnn = CNN()\n",
    "cnn"
   ]
  },
  {
   "cell_type": "code",
   "execution_count": 8,
   "metadata": {},
   "outputs": [
    {
     "data": {
      "text/plain": [
       "CrossEntropyLoss()"
      ]
     },
     "execution_count": 8,
     "metadata": {},
     "output_type": "execute_result"
    }
   ],
   "source": [
    "criterion = nn.CrossEntropyLoss()   \n",
    "criterion"
   ]
  },
  {
   "cell_type": "code",
   "execution_count": 9,
   "metadata": {},
   "outputs": [
    {
     "data": {
      "text/plain": [
       "Adam (\n",
       "Parameter Group 0\n",
       "    amsgrad: False\n",
       "    betas: (0.9, 0.999)\n",
       "    eps: 1e-08\n",
       "    lr: 0.01\n",
       "    weight_decay: 0\n",
       ")"
      ]
     },
     "execution_count": 9,
     "metadata": {},
     "output_type": "execute_result"
    }
   ],
   "source": [
    "optimizer = optim.Adam(cnn.parameters(), lr=0.01)   \n",
    "optimizer"
   ]
  },
  {
   "cell_type": "markdown",
   "metadata": {},
   "source": [
    "## Training"
   ]
  },
  {
   "cell_type": "code",
   "execution_count": 10,
   "metadata": {},
   "outputs": [
    {
     "name": "stdout",
     "output_type": "stream",
     "text": [
      "Epoch [1/10], Step [100/600], Loss: 0.1467\n",
      "Epoch [1/10], Step [200/600], Loss: 0.0636\n",
      "Epoch [1/10], Step [300/600], Loss: 0.0575\n",
      "Epoch [1/10], Step [400/600], Loss: 0.0667\n",
      "Epoch [1/10], Step [500/600], Loss: 0.1089\n",
      "Epoch [1/10], Step [600/600], Loss: 0.0587\n",
      "Epoch [2/10], Step [100/600], Loss: 0.0284\n",
      "Epoch [2/10], Step [200/600], Loss: 0.0508\n",
      "Epoch [2/10], Step [300/600], Loss: 0.0168\n",
      "Epoch [2/10], Step [400/600], Loss: 0.0077\n",
      "Epoch [2/10], Step [500/600], Loss: 0.0489\n",
      "Epoch [2/10], Step [600/600], Loss: 0.0403\n",
      "Epoch [3/10], Step [100/600], Loss: 0.0444\n",
      "Epoch [3/10], Step [200/600], Loss: 0.0528\n",
      "Epoch [3/10], Step [300/600], Loss: 0.0235\n",
      "Epoch [3/10], Step [400/600], Loss: 0.0298\n",
      "Epoch [3/10], Step [500/600], Loss: 0.0615\n",
      "Epoch [3/10], Step [600/600], Loss: 0.0202\n",
      "Epoch [4/10], Step [100/600], Loss: 0.0076\n",
      "Epoch [4/10], Step [200/600], Loss: 0.0445\n",
      "Epoch [4/10], Step [300/600], Loss: 0.0995\n",
      "Epoch [4/10], Step [400/600], Loss: 0.0390\n",
      "Epoch [4/10], Step [500/600], Loss: 0.0142\n",
      "Epoch [4/10], Step [600/600], Loss: 0.0040\n",
      "Epoch [5/10], Step [100/600], Loss: 0.0212\n",
      "Epoch [5/10], Step [200/600], Loss: 0.0905\n",
      "Epoch [5/10], Step [300/600], Loss: 0.1392\n",
      "Epoch [5/10], Step [400/600], Loss: 0.0280\n",
      "Epoch [5/10], Step [500/600], Loss: 0.0641\n",
      "Epoch [5/10], Step [600/600], Loss: 0.0303\n",
      "Epoch [6/10], Step [100/600], Loss: 0.0371\n",
      "Epoch [6/10], Step [200/600], Loss: 0.0030\n",
      "Epoch [6/10], Step [300/600], Loss: 0.0793\n",
      "Epoch [6/10], Step [400/600], Loss: 0.0676\n",
      "Epoch [6/10], Step [500/600], Loss: 0.0343\n",
      "Epoch [6/10], Step [600/600], Loss: 0.0145\n",
      "Epoch [7/10], Step [100/600], Loss: 0.0073\n",
      "Epoch [7/10], Step [200/600], Loss: 0.0021\n",
      "Epoch [7/10], Step [300/600], Loss: 0.0041\n",
      "Epoch [7/10], Step [400/600], Loss: 0.0008\n",
      "Epoch [7/10], Step [500/600], Loss: 0.0204\n",
      "Epoch [7/10], Step [600/600], Loss: 0.0330\n",
      "Epoch [8/10], Step [100/600], Loss: 0.0408\n",
      "Epoch [8/10], Step [200/600], Loss: 0.0067\n",
      "Epoch [8/10], Step [300/600], Loss: 0.0342\n",
      "Epoch [8/10], Step [400/600], Loss: 0.1543\n",
      "Epoch [8/10], Step [500/600], Loss: 0.0481\n",
      "Epoch [8/10], Step [600/600], Loss: 0.0152\n",
      "Epoch [9/10], Step [100/600], Loss: 0.0033\n",
      "Epoch [9/10], Step [200/600], Loss: 0.0220\n",
      "Epoch [9/10], Step [300/600], Loss: 0.0144\n",
      "Epoch [9/10], Step [400/600], Loss: 0.0302\n",
      "Epoch [9/10], Step [500/600], Loss: 0.0154\n",
      "Epoch [9/10], Step [600/600], Loss: 0.0002\n",
      "Epoch [10/10], Step [100/600], Loss: 0.0624\n",
      "Epoch [10/10], Step [200/600], Loss: 0.0010\n",
      "Epoch [10/10], Step [300/600], Loss: 0.0006\n",
      "Epoch [10/10], Step [400/600], Loss: 0.0153\n",
      "Epoch [10/10], Step [500/600], Loss: 0.0806\n",
      "Epoch [10/10], Step [600/600], Loss: 0.0002\n"
     ]
    }
   ],
   "source": [
    "num_epochs = 10\n",
    "total_step = len(train_loader)\n",
    "\n",
    "cnn.train()\n",
    "    \n",
    "for epoch in range(num_epochs):\n",
    "    for i, (inputs, labels) in enumerate(train_loader):\n",
    "        b_x = Variable(inputs, requires_grad=True)\n",
    "        b_y = Variable(labels)\n",
    "    \n",
    "        output = cnn(b_x)\n",
    "        loss = criterion(output, b_y)\n",
    "\n",
    "        optimizer.zero_grad()\n",
    "        loss.backward()\n",
    "        optimizer.step()\n",
    "        \n",
    "        if (i+1) % 100 == 0:\n",
    "            print (f'Epoch [{epoch+1}/{num_epochs}], Step [{i+1}/{total_step}], Loss: {loss.item():.4f}')"
   ]
  },
  {
   "cell_type": "markdown",
   "metadata": {},
   "source": [
    "## Testing"
   ]
  },
  {
   "cell_type": "code",
   "execution_count": 11,
   "metadata": {},
   "outputs": [
    {
     "name": "stdout",
     "output_type": "stream",
     "text": [
      "Test Accuracy: 1.00\n"
     ]
    }
   ],
   "source": [
    "cnn.eval()\n",
    "\n",
    "for inputs, labels in test_loader:\n",
    "    test_output = cnn(inputs)\n",
    "    pred_y = torch.max(test_output, 1).indices\n",
    "    accuracy = (pred_y == labels).sum().item() / float(labels.size(0))\n",
    "\n",
    "print(f'Test Accuracy: {accuracy:.2f}')"
   ]
  },
  {
   "cell_type": "markdown",
   "metadata": {},
   "source": [
    "## Adversarial Examples"
   ]
  },
  {
   "cell_type": "code",
   "execution_count": 12,
   "metadata": {},
   "outputs": [],
   "source": [
    "cnn.eval()\n",
    "\n",
    "epsilon = 0.07\n",
    "\n",
    "orig_output = cnn(b_x.data)\n",
    "orig_output_norm = (orig_output/orig_output.sum(axis=1)[:,None])\n",
    "orig_preds = orig_output_norm.max(axis=1).indices\n",
    "orig_conf = orig_output_norm.max(axis=1).values\n",
    "\n",
    "grad_preds = torch.max(cnn(np.sign(b_x.grad.sign())), 1).indices\n",
    "\n",
    "adv_output = cnn(b_x.data + epsilon*np.sign(b_x.grad))\n",
    "adv_output_norm = (adv_output/adv_output.sum(axis=1)[:,None])\n",
    "adv_preds = adv_output_norm.max(axis=1).indices\n",
    "adv_conf = adv_output_norm.max(axis=1).values"
   ]
  },
  {
   "cell_type": "code",
   "execution_count": 13,
   "metadata": {},
   "outputs": [
    {
     "data": {
      "image/png": "[encoded data removed]",
      "text/plain": [
       "<Figure size 720x576 with 15 Axes>"
      ]
     },
     "metadata": {
      "needs_background": "light"
     },
     "output_type": "display_data"
    }
   ],
   "source": [
    "example_start_ind = 0\n",
    "n_examples = 5\n",
    "fig, ax = plt.subplots(n_examples, 3, figsize=(10, 8))\n",
    "for i, j in enumerate(range(example_start_ind, example_start_ind+n_examples)):\n",
    "    orig_img = b_x.data[j, :, :, :].squeeze()\n",
    "    grad_img = (b_x.grad.sign())[j, :, :, :].squeeze()\n",
    "    adv_img = orig_img + epsilon*grad_img\n",
    "\n",
    "    ax[i,0].imshow(orig_img, cmap=\"gray\")\n",
    "    ax[i,0].set_title(f'{orig_preds[j].item()} - {orig_conf[j].item():.3f}')\n",
    "    ax[i,0].axis('off')\n",
    "\n",
    "    ax[i,1].imshow(grad_img, cmap=\"gray\")\n",
    "    ax[i,1].set_title(grad_preds[j].item())\n",
    "    ax[i,1].axis('off')\n",
    "\n",
    "    ax[i,2].imshow(adv_img, cmap=\"gray\")\n",
    "    ax[i,2].set_title(f'{adv_preds[j].item()} - {adv_conf[j].item():.3f}')\n",
    "    ax[i,2].axis('off')\n",
    "fig.tight_layout()"
   ]
  },
  {
   "cell_type": "code",
   "execution_count": 14,
   "metadata": {},
   "outputs": [],
   "source": [
    "# cnn.eval()\n",
    "\n",
    "# for i, (inputs, labels) in enumerate(train_loader):\n",
    "#     b_x = Variable(inputs, requires_grad=True)\n",
    "#     output = cnn(b_x)\n",
    "#     loss = criterion(output, b_y)\n",
    "#     optimizer.zero_grad()\n",
    "#     loss.backward()"
   ]
  },
  {
   "cell_type": "code",
   "execution_count": 15,
   "metadata": {},
   "outputs": [],
   "source": [
    "# test_output = cnn(b_x.grad.sign())\n",
    "# pred_y = torch.max(test_output, 1).indices\n",
    "# pred_y"
   ]
  },
  {
   "cell_type": "code",
   "execution_count": null,
   "metadata": {},
   "outputs": [],
   "source": []
  }
 ],
 "metadata": {
  "interpreter": {
   "hash": "2382972bb6cd0c0a599ae9828a9724aae4a2a8f15ac37cb5659f6022369b10c9"
  },
  "kernelspec": {
   "display_name": "Python 3.8.11 64-bit ('mlmi4')",
   "language": "python",
   "name": "python3"
  },
  "language_info": {
   "codemirror_mode": {
    "name": "ipython",
    "version": 3
   },
   "file_extension": ".py",
   "mimetype": "text/x-python",
   "name": "python",
   "nbconvert_exporter": "python",
   "pygments_lexer": "ipython3",
   "version": "3.8.11"
  },
  "orig_nbformat": 4
 },
 "nbformat": 4,
 "nbformat_minor": 2
}

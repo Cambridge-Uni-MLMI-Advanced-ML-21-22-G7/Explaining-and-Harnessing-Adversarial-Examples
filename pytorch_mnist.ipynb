{
 "cells": [
  {
   "cell_type": "code",
   "execution_count": 1,
   "metadata": {},
   "outputs": [],
   "source": [
    "import numpy as np\n",
    "import matplotlib.pyplot as plt\n",
    "import torch\n",
    "import torch.nn as nn\n",
    "import torch.nn.functional as F\n",
    "from torch import optim\n",
    "from torch.utils.data import DataLoader\n",
    "from torch.autograd import Variable\n",
    "from torchvision import datasets\n",
    "from torchvision.transforms import ToTensor"
   ]
  },
  {
   "cell_type": "markdown",
   "metadata": {},
   "source": [
    "## Source\n",
    "\n",
    "Followed [PyTorch tutorial](https://pytorch.org/tutorials/beginner/blitz/cifar10_tutorial.html) and [this medium article](https://medium.com/@nutanbhogendrasharma/pytorch-convolutional-neural-network-with-mnist-dataset-4e8a4265e118) for initial setup of CNN network trained and tested using MNIST."
   ]
  },
  {
   "cell_type": "markdown",
   "metadata": {},
   "source": [
    "## Settings"
   ]
  },
  {
   "cell_type": "code",
   "execution_count": 2,
   "metadata": {},
   "outputs": [],
   "source": [
    "USE_SOFTMAX = False"
   ]
  },
  {
   "cell_type": "markdown",
   "metadata": {},
   "source": [
    "## Download the MNIST Dataset"
   ]
  },
  {
   "cell_type": "code",
   "execution_count": 3,
   "metadata": {},
   "outputs": [],
   "source": [
    "train_data = datasets.MNIST(\n",
    "    root = 'data',\n",
    "    train = True,                         \n",
    "    transform = ToTensor(), \n",
    "    download = True,            \n",
    ")\n",
    "test_data = datasets.MNIST(\n",
    "    root = 'data', \n",
    "    train = False, \n",
    "    transform = ToTensor()\n",
    ")"
   ]
  },
  {
   "cell_type": "markdown",
   "metadata": {},
   "source": [
    "## Plot Examples"
   ]
  },
  {
   "cell_type": "code",
   "execution_count": 4,
   "metadata": {},
   "outputs": [
    {
     "data": {
      "image/png": "[encoded data removed]",
      "text/plain": [
       "<Figure size 720x576 with 25 Axes>"
      ]
     },
     "metadata": {
      "needs_background": "light"
     },
     "output_type": "display_data"
    }
   ],
   "source": [
    "cols, rows = 5, 5\n",
    "fig, ax = plt.subplots(cols, rows, figsize=(10, 8))\n",
    "\n",
    "for i in range(cols * rows):\n",
    "    col, row = i // 5, i % 5\n",
    "    sample_idx = torch.randint(len(train_data), size=(1,)).item()\n",
    "    img, label = train_data[sample_idx]\n",
    "    ax[col, row].set_title(label)\n",
    "    ax[col, row].axis(\"off\")\n",
    "    ax[col, row].imshow(img.squeeze(), cmap=\"gray\")\n",
    "fig.tight_layout()"
   ]
  },
  {
   "cell_type": "markdown",
   "metadata": {},
   "source": [
    "## DataLoaders"
   ]
  },
  {
   "cell_type": "code",
   "execution_count": 5,
   "metadata": {},
   "outputs": [
    {
     "data": {
      "text/plain": [
       "(<torch.utils.data.dataloader.DataLoader at 0x11d527550>,\n",
       " <torch.utils.data.dataloader.DataLoader at 0x11d4bf940>)"
      ]
     },
     "execution_count": 5,
     "metadata": {},
     "output_type": "execute_result"
    }
   ],
   "source": [
    "train_loader = torch.utils.data.DataLoader(\n",
    "    train_data, \n",
    "    batch_size=100, \n",
    "    shuffle=True, \n",
    "    num_workers=1\n",
    ")\n",
    "    \n",
    "test_loader = torch.utils.data.DataLoader(\n",
    "    test_data, \n",
    "    batch_size=100, \n",
    "    shuffle=True, \n",
    "    num_workers=1\n",
    ")\n",
    "\n",
    "train_loader, test_loader"
   ]
  },
  {
   "cell_type": "markdown",
   "metadata": {},
   "source": [
    "## Network Definition"
   ]
  },
  {
   "cell_type": "code",
   "execution_count": 6,
   "metadata": {},
   "outputs": [],
   "source": [
    "class CNN(nn.Module):\n",
    "    def __init__(self):\n",
    "        super().__init__()\n",
    "        self.conv1 = nn.Conv2d(\n",
    "            in_channels=1,\n",
    "            out_channels=16,\n",
    "            kernel_size=5,\n",
    "            stride=1,\n",
    "            padding=0,\n",
    "        )\n",
    "        self.pool = nn.MaxPool2d(\n",
    "            kernel_size=2\n",
    "        )\n",
    "        self.conv2 = nn.Conv2d(\n",
    "            in_channels=1,\n",
    "            out_channels=16,\n",
    "            kernel_size=5,\n",
    "            # stride=1,\n",
    "            # padding=2,\n",
    "        )\n",
    "        self.fc = nn.Linear(\n",
    "            in_features=16*12*12,\n",
    "            out_features=10\n",
    "        )\n",
    "\n",
    "\n",
    "    def forward(self, x):\n",
    "        x = self.conv1(x)\n",
    "        x = F.relu(x)\n",
    "        x = self.pool(x)\n",
    "        x = torch.flatten(x, 1)\n",
    "        x = self.fc(x)\n",
    "\n",
    "        if USE_SOFTMAX:\n",
    "            x = F.softmax(x, dim=1)\n",
    "\n",
    "        return x    # return x for visualization"
   ]
  },
  {
   "cell_type": "code",
   "execution_count": 7,
   "metadata": {},
   "outputs": [
    {
     "data": {
      "text/plain": [
       "CNN(\n",
       "  (conv1): Conv2d(1, 16, kernel_size=(5, 5), stride=(1, 1))\n",
       "  (pool): MaxPool2d(kernel_size=2, stride=2, padding=0, dilation=1, ceil_mode=False)\n",
       "  (conv2): Conv2d(1, 16, kernel_size=(5, 5), stride=(1, 1))\n",
       "  (fc): Linear(in_features=2304, out_features=10, bias=True)\n",
       ")"
      ]
     },
     "execution_count": 7,
     "metadata": {},
     "output_type": "execute_result"
    }
   ],
   "source": [
    "cnn = CNN()\n",
    "cnn"
   ]
  },
  {
   "cell_type": "code",
   "execution_count": 8,
   "metadata": {},
   "outputs": [
    {
     "data": {
      "text/plain": [
       "CrossEntropyLoss()"
      ]
     },
     "execution_count": 8,
     "metadata": {},
     "output_type": "execute_result"
    }
   ],
   "source": [
    "criterion = nn.CrossEntropyLoss()   \n",
    "criterion"
   ]
  },
  {
   "cell_type": "code",
   "execution_count": 9,
   "metadata": {},
   "outputs": [
    {
     "data": {
      "text/plain": [
       "SGD (\n",
       "Parameter Group 0\n",
       "    dampening: 0\n",
       "    lr: 0.01\n",
       "    momentum: 0\n",
       "    nesterov: False\n",
       "    weight_decay: 0\n",
       ")"
      ]
     },
     "execution_count": 9,
     "metadata": {},
     "output_type": "execute_result"
    }
   ],
   "source": [
    "optimizer = optim.SGD(cnn.parameters(), lr=0.01)   \n",
    "optimizer"
   ]
  },
  {
   "cell_type": "markdown",
   "metadata": {},
   "source": [
    "## Training"
   ]
  },
  {
   "cell_type": "code",
   "execution_count": 10,
   "metadata": {},
   "outputs": [
    {
     "name": "stdout",
     "output_type": "stream",
     "text": [
      "Epoch [1/20], Step [100/600], Loss: 1.3774\n",
      "Epoch [1/20], Step [200/600], Loss: 0.7462\n",
      "Epoch [1/20], Step [300/600], Loss: 0.5666\n",
      "Epoch [1/20], Step [400/600], Loss: 0.4908\n",
      "Epoch [1/20], Step [500/600], Loss: 0.3369\n",
      "Epoch [1/20], Step [600/600], Loss: 0.3589\n",
      "Epoch [2/20], Step [100/600], Loss: 0.3978\n",
      "Epoch [2/20], Step [200/600], Loss: 0.3002\n",
      "Epoch [2/20], Step [300/600], Loss: 0.3250\n",
      "Epoch [2/20], Step [400/600], Loss: 0.3962\n",
      "Epoch [2/20], Step [500/600], Loss: 0.2300\n",
      "Epoch [2/20], Step [600/600], Loss: 0.2017\n",
      "Epoch [3/20], Step [100/600], Loss: 0.3444\n",
      "Epoch [3/20], Step [200/600], Loss: 0.2077\n",
      "Epoch [3/20], Step [300/600], Loss: 0.4018\n",
      "Epoch [3/20], Step [400/600], Loss: 0.2715\n",
      "Epoch [3/20], Step [500/600], Loss: 0.3702\n",
      "Epoch [3/20], Step [600/600], Loss: 0.3304\n",
      "Epoch [4/20], Step [100/600], Loss: 0.2079\n",
      "Epoch [4/20], Step [200/600], Loss: 0.2591\n",
      "Epoch [4/20], Step [300/600], Loss: 0.2059\n",
      "Epoch [4/20], Step [400/600], Loss: 0.1991\n",
      "Epoch [4/20], Step [500/600], Loss: 0.2559\n",
      "Epoch [4/20], Step [600/600], Loss: 0.2524\n",
      "Epoch [5/20], Step [100/600], Loss: 0.2561\n",
      "Epoch [5/20], Step [200/600], Loss: 0.1706\n",
      "Epoch [5/20], Step [300/600], Loss: 0.1517\n",
      "Epoch [5/20], Step [400/600], Loss: 0.2037\n",
      "Epoch [5/20], Step [500/600], Loss: 0.3851\n",
      "Epoch [5/20], Step [600/600], Loss: 0.1919\n",
      "Epoch [6/20], Step [100/600], Loss: 0.3336\n",
      "Epoch [6/20], Step [200/600], Loss: 0.2488\n",
      "Epoch [6/20], Step [300/600], Loss: 0.1959\n",
      "Epoch [6/20], Step [400/600], Loss: 0.2262\n",
      "Epoch [6/20], Step [500/600], Loss: 0.2408\n",
      "Epoch [6/20], Step [600/600], Loss: 0.2775\n",
      "Epoch [7/20], Step [100/600], Loss: 0.2159\n",
      "Epoch [7/20], Step [200/600], Loss: 0.1238\n",
      "Epoch [7/20], Step [300/600], Loss: 0.3150\n",
      "Epoch [7/20], Step [400/600], Loss: 0.1080\n",
      "Epoch [7/20], Step [500/600], Loss: 0.2137\n",
      "Epoch [7/20], Step [600/600], Loss: 0.1332\n",
      "Epoch [8/20], Step [100/600], Loss: 0.2372\n",
      "Epoch [8/20], Step [200/600], Loss: 0.1754\n",
      "Epoch [8/20], Step [300/600], Loss: 0.1669\n",
      "Epoch [8/20], Step [400/600], Loss: 0.2117\n",
      "Epoch [8/20], Step [500/600], Loss: 0.1738\n",
      "Epoch [8/20], Step [600/600], Loss: 0.3244\n",
      "Epoch [9/20], Step [100/600], Loss: 0.1643\n",
      "Epoch [9/20], Step [200/600], Loss: 0.1166\n",
      "Epoch [9/20], Step [300/600], Loss: 0.2938\n",
      "Epoch [9/20], Step [400/600], Loss: 0.1130\n",
      "Epoch [9/20], Step [500/600], Loss: 0.2223\n",
      "Epoch [9/20], Step [600/600], Loss: 0.2024\n",
      "Epoch [10/20], Step [100/600], Loss: 0.2069\n",
      "Epoch [10/20], Step [200/600], Loss: 0.1609\n",
      "Epoch [10/20], Step [300/600], Loss: 0.1101\n",
      "Epoch [10/20], Step [400/600], Loss: 0.0773\n",
      "Epoch [10/20], Step [500/600], Loss: 0.1592\n",
      "Epoch [10/20], Step [600/600], Loss: 0.1328\n",
      "Epoch [11/20], Step [100/600], Loss: 0.1206\n",
      "Epoch [11/20], Step [200/600], Loss: 0.1293\n",
      "Epoch [11/20], Step [300/600], Loss: 0.2110\n",
      "Epoch [11/20], Step [400/600], Loss: 0.1833\n",
      "Epoch [11/20], Step [500/600], Loss: 0.1903\n",
      "Epoch [11/20], Step [600/600], Loss: 0.1357\n",
      "Epoch [12/20], Step [100/600], Loss: 0.1319\n",
      "Epoch [12/20], Step [200/600], Loss: 0.2153\n",
      "Epoch [12/20], Step [300/600], Loss: 0.1395\n",
      "Epoch [12/20], Step [400/600], Loss: 0.1391\n",
      "Epoch [12/20], Step [500/600], Loss: 0.2170\n",
      "Epoch [12/20], Step [600/600], Loss: 0.1038\n",
      "Epoch [13/20], Step [100/600], Loss: 0.2397\n",
      "Epoch [13/20], Step [200/600], Loss: 0.1051\n",
      "Epoch [13/20], Step [300/600], Loss: 0.0994\n",
      "Epoch [13/20], Step [400/600], Loss: 0.1743\n",
      "Epoch [13/20], Step [500/600], Loss: 0.1308\n",
      "Epoch [13/20], Step [600/600], Loss: 0.0800\n",
      "Epoch [14/20], Step [100/600], Loss: 0.0839\n",
      "Epoch [14/20], Step [200/600], Loss: 0.0794\n",
      "Epoch [14/20], Step [300/600], Loss: 0.1199\n",
      "Epoch [14/20], Step [400/600], Loss: 0.1018\n",
      "Epoch [14/20], Step [500/600], Loss: 0.0925\n",
      "Epoch [14/20], Step [600/600], Loss: 0.3137\n",
      "Epoch [15/20], Step [100/600], Loss: 0.2719\n",
      "Epoch [15/20], Step [200/600], Loss: 0.0768\n",
      "Epoch [15/20], Step [300/600], Loss: 0.1138\n",
      "Epoch [15/20], Step [400/600], Loss: 0.0827\n",
      "Epoch [15/20], Step [500/600], Loss: 0.1081\n",
      "Epoch [15/20], Step [600/600], Loss: 0.1267\n",
      "Epoch [16/20], Step [100/600], Loss: 0.1074\n",
      "Epoch [16/20], Step [200/600], Loss: 0.0669\n",
      "Epoch [16/20], Step [300/600], Loss: 0.1002\n",
      "Epoch [16/20], Step [400/600], Loss: 0.1211\n",
      "Epoch [16/20], Step [500/600], Loss: 0.0890\n",
      "Epoch [16/20], Step [600/600], Loss: 0.0629\n",
      "Epoch [17/20], Step [100/600], Loss: 0.1155\n",
      "Epoch [17/20], Step [200/600], Loss: 0.1686\n",
      "Epoch [17/20], Step [300/600], Loss: 0.0930\n",
      "Epoch [17/20], Step [400/600], Loss: 0.1238\n",
      "Epoch [17/20], Step [500/600], Loss: 0.0810\n",
      "Epoch [17/20], Step [600/600], Loss: 0.0663\n",
      "Epoch [18/20], Step [100/600], Loss: 0.1255\n",
      "Epoch [18/20], Step [200/600], Loss: 0.0480\n",
      "Epoch [18/20], Step [300/600], Loss: 0.1569\n",
      "Epoch [18/20], Step [400/600], Loss: 0.0560\n",
      "Epoch [18/20], Step [500/600], Loss: 0.0799\n",
      "Epoch [18/20], Step [600/600], Loss: 0.0441\n",
      "Epoch [19/20], Step [100/600], Loss: 0.1004\n",
      "Epoch [19/20], Step [200/600], Loss: 0.0666\n",
      "Epoch [19/20], Step [300/600], Loss: 0.0763\n",
      "Epoch [19/20], Step [400/600], Loss: 0.0836\n",
      "Epoch [19/20], Step [500/600], Loss: 0.0633\n",
      "Epoch [19/20], Step [600/600], Loss: 0.1038\n",
      "Epoch [20/20], Step [100/600], Loss: 0.0916\n",
      "Epoch [20/20], Step [200/600], Loss: 0.0729\n",
      "Epoch [20/20], Step [300/600], Loss: 0.0926\n",
      "Epoch [20/20], Step [400/600], Loss: 0.1124\n",
      "Epoch [20/20], Step [500/600], Loss: 0.0692\n",
      "Epoch [20/20], Step [600/600], Loss: 0.1337\n"
     ]
    }
   ],
   "source": [
    "num_epochs = 20\n",
    "total_step = len(train_loader)\n",
    "\n",
    "cnn.train()\n",
    "\n",
    "final_bx_arrs = []\n",
    "final_by_arrs = []\n",
    "for epoch in range(num_epochs):\n",
    "    for i, (inputs, labels) in enumerate(train_loader):\n",
    "        b_x = Variable(inputs, requires_grad=True)\n",
    "        b_y = Variable(labels)\n",
    "    \n",
    "        output = cnn(b_x)\n",
    "        loss = criterion(output, b_y)\n",
    "\n",
    "        optimizer.zero_grad()\n",
    "        loss.backward()\n",
    "        optimizer.step()\n",
    "        \n",
    "        if (i+1) % 100 == 0:\n",
    "            print (f'Epoch [{epoch+1}/{num_epochs}], Step [{i+1}/{total_step}], Loss: {loss.item():.4f}')\n",
    "\n",
    "        if epoch == num_epochs-1:\n",
    "            final_bx_arrs.append(b_x)\n",
    "            final_by_arrs.append(b_y)"
   ]
  },
  {
   "cell_type": "markdown",
   "metadata": {},
   "source": [
    "## Testing"
   ]
  },
  {
   "cell_type": "code",
   "execution_count": 11,
   "metadata": {},
   "outputs": [
    {
     "name": "stdout",
     "output_type": "stream",
     "text": [
      "Test Accuracy: 0.97500\n"
     ]
    }
   ],
   "source": [
    "cnn.eval()\n",
    "\n",
    "accuracy = 0\n",
    "for inputs, labels in test_loader:\n",
    "    test_output = cnn(inputs)\n",
    "    pred_y = torch.max(test_output, 1).indices\n",
    "    accuracy += (1/len(test_loader))*(pred_y == labels).sum().item() / float(labels.size(0))\n",
    "\n",
    "print(f'Test Accuracy: {accuracy:.5f}')"
   ]
  },
  {
   "cell_type": "markdown",
   "metadata": {},
   "source": [
    "## Adversarial Examples"
   ]
  },
  {
   "cell_type": "code",
   "execution_count": 63,
   "metadata": {},
   "outputs": [],
   "source": [
    "cnn.eval()\n",
    "\n",
    "epsilon = 0.05\n",
    "\n",
    "orig_output = cnn(b_x.data)\n",
    "orig_output_softmax = torch.nn.functional.softmax(orig_output, dim=1)\n",
    "orig_preds = orig_output_softmax.max(axis=1).indices\n",
    "orig_conf = orig_output_softmax.max(axis=1).values\n",
    "\n",
    "grad_preds = torch.max(cnn(np.sign(b_x.grad.sign())), 1).indices\n",
    "\n",
    "adv_output = cnn(b_x.data + epsilon*np.sign(b_x.grad))\n",
    "adv_output_softmax = torch.nn.functional.softmax(adv_output, dim=1)\n",
    "adv_preds = adv_output_softmax.max(axis=1).indices\n",
    "adv_conf = adv_output_softmax.max(axis=1).values"
   ]
  },
  {
   "cell_type": "code",
   "execution_count": 64,
   "metadata": {},
   "outputs": [
    {
     "data": {
      "text/plain": [
       "torch.Size([100, 10])"
      ]
     },
     "execution_count": 64,
     "metadata": {},
     "output_type": "execute_result"
    }
   ],
   "source": [
    "orig_output_softmax.shape"
   ]
  },
  {
   "cell_type": "code",
   "execution_count": 65,
   "metadata": {},
   "outputs": [
    {
     "data": {
      "image/png": "[encoded data removed]",
      "text/plain": [
       "<Figure size 720x1152 with 30 Axes>"
      ]
     },
     "metadata": {
      "needs_background": "light"
     },
     "output_type": "display_data"
    }
   ],
   "source": [
    "example_start_ind = 0\n",
    "n_examples = 10\n",
    "fig, ax = plt.subplots(n_examples, 3, figsize=(10, 16))\n",
    "for i, j in enumerate(range(example_start_ind, example_start_ind+n_examples)):\n",
    "    orig_img = b_x.data[j, :, :, :].squeeze()\n",
    "    grad_img = (b_x.grad.sign())[j, :, :, :].squeeze()\n",
    "    adv_img = orig_img + epsilon*grad_img\n",
    "\n",
    "    ax[i,0].imshow(orig_img, cmap=\"gray\")\n",
    "    ax[i,0].set_title(f'{orig_preds[j].item()} - {orig_conf[j].item():.3f}')\n",
    "    ax[i,0].axis('off')\n",
    "\n",
    "    ax[i,1].imshow(grad_img, cmap=\"gray\")\n",
    "    ax[i,1].set_title(grad_preds[j].item())\n",
    "    ax[i,1].axis('off')\n",
    "\n",
    "    ax[i,2].imshow(adv_img, cmap=\"gray\")\n",
    "    ax[i,2].set_title(f'{adv_preds[j].item()} - {adv_conf[j].item():.3f}')\n",
    "    ax[i,2].axis('off')\n",
    "fig.tight_layout()"
   ]
  },
  {
   "cell_type": "code",
   "execution_count": 83,
   "metadata": {},
   "outputs": [],
   "source": [
    "epsilon = 0.25\n",
    "\n",
    "updated_bx = final_bx_arrs[0] + epsilon*np.sign(final_bx_arrs[0].grad)\n",
    "grad_bx = updated_bx.detach().numpy()\n",
    "original_bx = final_bx_arrs[0].detach().numpy()\n",
    "\n",
    "total_by = final_by_arrs[0].detach().numpy()\n",
    "\n",
    "for i in range(1,len(final_bx_arrs)):\n",
    "    updated_bx = final_bx_arrs[i] + epsilon*np.sign(final_bx_arrs[i].grad)\n",
    "    grad_bx = np.vstack((grad_bx, updated_bx.detach().numpy()))\n",
    "    original_bx = np.vstack((original_bx, final_bx_arrs[i].detach().numpy()))\n",
    "    total_by = np.hstack((total_by, final_by_arrs[i].detach().numpy()))"
   ]
  },
  {
   "cell_type": "code",
   "execution_count": 84,
   "metadata": {},
   "outputs": [
    {
     "data": {
      "text/plain": [
       "((60000, 1, 28, 28), (60000, 1, 28, 28), (60000,))"
      ]
     },
     "execution_count": 84,
     "metadata": {},
     "output_type": "execute_result"
    }
   ],
   "source": [
    "original_bx.shape, grad_bx.shape, total_by.shape"
   ]
  },
  {
   "cell_type": "code",
   "execution_count": 85,
   "metadata": {},
   "outputs": [
    {
     "data": {
      "text/plain": [
       "0.9757666666666667"
      ]
     },
     "execution_count": 85,
     "metadata": {},
     "output_type": "execute_result"
    }
   ],
   "source": [
    "test_output = cnn(torch.tensor(original_bx))\n",
    "pred_y = torch.max(test_output, 1).indices\n",
    "accuracy = (pred_y == torch.tensor(total_by)).sum().item() / float(total_by.size)\n",
    "accuracy\n"
   ]
  },
  {
   "cell_type": "code",
   "execution_count": 86,
   "metadata": {},
   "outputs": [
    {
     "data": {
      "text/plain": [
       "0.0002"
      ]
     },
     "execution_count": 86,
     "metadata": {},
     "output_type": "execute_result"
    }
   ],
   "source": [
    "test_output = cnn(torch.tensor(grad_bx))\n",
    "pred_y = torch.max(test_output, 1).indices\n",
    "accuracy = (pred_y == torch.tensor(total_by)).sum().item() / float(total_by.size)\n",
    "accuracy\n"
   ]
  },
  {
   "cell_type": "code",
   "execution_count": 87,
   "metadata": {},
   "outputs": [
    {
     "data": {
      "text/plain": [
       "<matplotlib.image.AxesImage at 0x12f88bf10>"
      ]
     },
     "execution_count": 87,
     "metadata": {},
     "output_type": "execute_result"
    },
    {
     "data": {
      "image/png": "[encoded data removed]",
      "text/plain": [
       "<Figure size 432x288 with 1 Axes>"
      ]
     },
     "metadata": {
      "needs_background": "light"
     },
     "output_type": "display_data"
    }
   ],
   "source": [
    "plt.imshow(grad_bx[0,0,:,:], cmap=\"gray\")"
   ]
  },
  {
   "cell_type": "code",
   "execution_count": 88,
   "metadata": {},
   "outputs": [],
   "source": [
    "np.save('x_orig.npy', original_bx)\n",
    "np.save(f'x_grad_{epsilon}.npy', grad_bx)\n",
    "np.save('y_grad.npy', total_by)"
   ]
  },
  {
   "cell_type": "code",
   "execution_count": 14,
   "metadata": {},
   "outputs": [],
   "source": [
    "# cnn.eval()\n",
    "\n",
    "# for i, (inputs, labels) in enumerate(train_loader):\n",
    "#     b_x = Variable(inputs, requires_grad=True)\n",
    "#     output = cnn(b_x)\n",
    "#     loss = criterion(output, b_y)\n",
    "#     optimizer.zero_grad()\n",
    "#     loss.backward()"
   ]
  },
  {
   "cell_type": "code",
   "execution_count": 15,
   "metadata": {},
   "outputs": [],
   "source": [
    "# test_output = cnn(b_x.grad.sign())\n",
    "# pred_y = torch.max(test_output, 1).indices\n",
    "# pred_y"
   ]
  },
  {
   "cell_type": "code",
   "execution_count": null,
   "metadata": {},
   "outputs": [],
   "source": []
  }
 ],
 "metadata": {
  "interpreter": {
   "hash": "2382972bb6cd0c0a599ae9828a9724aae4a2a8f15ac37cb5659f6022369b10c9"
  },
  "kernelspec": {
   "display_name": "Python 3.8.11 64-bit ('mlmi4')",
   "language": "python",
   "name": "python3"
  },
  "language_info": {
   "codemirror_mode": {
    "name": "ipython",
    "version": 3
   },
   "file_extension": ".py",
   "mimetype": "text/x-python",
   "name": "python",
   "nbconvert_exporter": "python",
   "pygments_lexer": "ipython3",
   "version": "3.8.11"
  },
  "orig_nbformat": 4
 },
 "nbformat": 4,
 "nbformat_minor": 2
}
